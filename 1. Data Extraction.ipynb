{
 "cells": [
  {
   "cell_type": "markdown",
   "metadata": {},
   "source": [
    "#### Notebook Contents:\n",
    "- Import Python Notebooks\n",
    "- Use PRAW API to extract 1,000 posts from the FOXNEWS and MSNBC subreddits\n",
    "- Convert posts to DataFrame\n",
    "- Prepare DataFrame to transfer to other Notebook\n",
    "\n",
    "- - - - - - - - - - - - - - - - - - - - - - - - - - - - - - - - - - - - - - - - - - - - - - - - - \n",
    "\n",
    "The below links were instrumental in the construction of this notebook.\n",
    "- Towards Data Science: Scraping Reddit data    \n",
    "    - https://towardsdatascience.com/scraping-reddit-data-1c0af3040768\n",
    "\n",
    "\n",
    "- Introduction and Basics - Python Reddit API Wrapper (PRAW) Tutorial P.1\n",
    "    - https://www.youtube.com/watch?v=NRgfgtzIhBQ"
   ]
  },
  {
   "cell_type": "markdown",
   "metadata": {},
   "source": [
    "- - - - - - - - - - - - - - - - - - - - - - - - - - - - - - - - - - - - - - - - - - - - - - - - - - - -"
   ]
  },
  {
   "cell_type": "markdown",
   "metadata": {},
   "source": [
    "#### Imports"
   ]
  },
  {
   "cell_type": "code",
   "execution_count": 1,
   "metadata": {},
   "outputs": [],
   "source": [
    "# API \n",
    "import praw\n",
    "\n",
    "# Data Manipulation\n",
    "import pandas as pd\n",
    "import numpy as np\n",
    "\n",
    "# Tokenization\n",
    "from nltk.tokenize import RegexpTokenizer\n",
    "\n",
    "# Data Visualization\n",
    "import seaborn as sns\n",
    "import matplotlib.pyplot as plt\n",
    "\n",
    "# DateTime\n",
    "import time\n",
    "\n",
    "# Web Scrapping, Text Cleaning\n",
    "from bs4 import BeautifulSoup \n",
    "\n",
    "# Stop-Word list\n",
    "from nltk.corpus import stopwords\n",
    "\n",
    "# Detect Patterns in Text\n",
    "import regex as re\n",
    "\n",
    "# Instantiate stemmer.\n",
    "from nltk.stem.porter import PorterStemmer\n",
    "\n",
    "# Train Test Split\n",
    "from sklearn.model_selection import train_test_split\n",
    "\n",
    "%matplotlib inline"
   ]
  },
  {
   "cell_type": "code",
   "execution_count": 2,
   "metadata": {},
   "outputs": [],
   "source": [
    "# Set Pandas to view all rows and columns\n",
    "pd.set_option('display.max_rows', 500)\n",
    "pd.set_option('display.max_columns', 500)\n",
    "pd.set_option('display.width', 1000)"
   ]
  },
  {
   "cell_type": "markdown",
   "metadata": {},
   "source": [
    "- - - - - - - - - - - - - - - - - - - - - - - - - - - - - - - - - - - - - - - - - - - - - - - - - - - -"
   ]
  },
  {
   "cell_type": "markdown",
   "metadata": {},
   "source": [
    "## Data Extraction"
   ]
  },
  {
   "cell_type": "markdown",
   "metadata": {},
   "source": [
    "#### PRAW API Parameters Setup"
   ]
  },
  {
   "cell_type": "code",
   "execution_count": 3,
   "metadata": {},
   "outputs": [],
   "source": [
    "# Using Reddit PRAW API to pull new stories\n",
    "reddit = praw.Reddit(client_id = 'bwollOzqeTFAGw',\n",
    "                     client_secret = \"DvMUBxO8ZsMgLXYR7mW7uDWY6CE\", \n",
    "                     password = 'scoober12',\n",
    "                     user_agent = 'USERAGENT', \n",
    "                     username = 'DramaticPlate')"
   ]
  },
  {
   "cell_type": "markdown",
   "metadata": {},
   "source": [
    "#### Web Scrapping"
   ]
  },
  {
   "cell_type": "code",
   "execution_count": 4,
   "metadata": {},
   "outputs": [
    {
     "name": "stdout",
     "output_type": "stream",
     "text": [
      "10\n"
     ]
    }
   ],
   "source": [
    "num_pulls = int(input())"
   ]
  },
  {
   "cell_type": "code",
   "execution_count": 5,
   "metadata": {},
   "outputs": [
    {
     "name": "stdout",
     "output_type": "stream",
     "text": [
      "Number of Fox News Posts Obtained: 1\n",
      "Number of Fox News Posts Obtained: 2\n",
      "Number of Fox News Posts Obtained: 3\n",
      "Number of Fox News Posts Obtained: 4\n",
      "Number of Fox News Posts Obtained: 5\n",
      "Number of Fox News Posts Obtained: 6\n",
      "Number of Fox News Posts Obtained: 7\n",
      "Number of Fox News Posts Obtained: 8\n",
      "Number of Fox News Posts Obtained: 9\n",
      "Number of Fox News Posts Obtained: 10\n"
     ]
    }
   ],
   "source": [
    "# Prints the Post (Thread ID's)\n",
    "FOXNEWS_posts = []\n",
    "\n",
    "FOXNEWS = reddit.subreddit('FOXNEWS')\n",
    "\n",
    "# Sets Limit and Parameters for what data we want to pull in\n",
    "for post in FOXNEWS.new(limit = num_pulls):\n",
    "    \n",
    "    FOXNEWS_posts.append([post.id, \n",
    "                  post.title, \n",
    "                  post.ups, \n",
    "                  post.downs, \n",
    "                  post.subreddit,\n",
    "                  post.selftext,\n",
    "                  post.url, \n",
    "                  post.num_comments, \n",
    "                  post.created])\n",
    "    time.sleep(3)\n",
    "\n",
    "# Countdown showing number of rows in model\n",
    "    print(f'Number of Fox News Posts Obtained: {len(FOXNEWS_posts)}')\n",
    "    \n",
    "# Converts Post content into DataFrame\n",
    "FOXNEWS_posts = pd.DataFrame(FOXNEWS_posts, columns = ['ID', \n",
    "                                       'Title', \n",
    "                                       'Upvotes', \n",
    "                                       'Downvotes', \n",
    "                                       'Subreddit',\n",
    "                                       'Body',\n",
    "                                       'URL', \n",
    "                                       'Number of Comments', \n",
    "                                       'Date Created'])"
   ]
  },
  {
   "cell_type": "code",
   "execution_count": 6,
   "metadata": {
    "scrolled": true
   },
   "outputs": [
    {
     "name": "stdout",
     "output_type": "stream",
     "text": [
      "Number of MSNBC Posts Obtained: 1\n",
      "Number of MSNBC Posts Obtained: 2\n",
      "Number of MSNBC Posts Obtained: 3\n",
      "Number of MSNBC Posts Obtained: 4\n",
      "Number of MSNBC Posts Obtained: 5\n",
      "Number of MSNBC Posts Obtained: 6\n",
      "Number of MSNBC Posts Obtained: 7\n",
      "Number of MSNBC Posts Obtained: 8\n",
      "Number of MSNBC Posts Obtained: 9\n",
      "Number of MSNBC Posts Obtained: 10\n"
     ]
    }
   ],
   "source": [
    "# Prints the Post (Thread ID's)\n",
    "MSNBC_posts = []\n",
    "\n",
    "MSNBC = reddit.subreddit('MSNBC')\n",
    "\n",
    "# Sets Limit and Parameters for what data we want to pull in\n",
    "for post in MSNBC.new(limit = num_pulls):\n",
    "    \n",
    "    MSNBC_posts.append([post.id, \n",
    "                  post.title, \n",
    "                  post.ups, \n",
    "                  post.downs, \n",
    "                  post.subreddit,\n",
    "                  post.selftext,\n",
    "                  post.url, \n",
    "                  post.num_comments, \n",
    "                  post.created])\n",
    "    time.sleep(3)\n",
    "\n",
    "# Countdown showing number of rows in model\n",
    "    print(f'Number of MSNBC Posts Obtained: {len(MSNBC_posts)}')\n",
    "    \n",
    "# Converts Post content into DataFrame\n",
    "MSNBC_posts = pd.DataFrame(MSNBC_posts, columns = ['ID', \n",
    "                                       'Title', \n",
    "                                       'Upvotes', \n",
    "                                       'Downvotes', \n",
    "                                       'Subreddit',\n",
    "                                       'Body',\n",
    "                                       'URL', \n",
    "                                       'Number of Comments', \n",
    "                                       'Date Created'])"
   ]
  },
  {
   "cell_type": "markdown",
   "metadata": {},
   "source": [
    "#### Create Master DataFrame"
   ]
  },
  {
   "cell_type": "code",
   "execution_count": 7,
   "metadata": {},
   "outputs": [],
   "source": [
    "# Creating master DataFrame by combining both subreddit DataFrames\n",
    "master = pd.concat([FOXNEWS_posts, MSNBC_posts], axis = 0)"
   ]
  },
  {
   "cell_type": "code",
   "execution_count": 8,
   "metadata": {},
   "outputs": [
    {
     "data": {
      "text/html": [
       "<div>\n",
       "<style scoped>\n",
       "    .dataframe tbody tr th:only-of-type {\n",
       "        vertical-align: middle;\n",
       "    }\n",
       "\n",
       "    .dataframe tbody tr th {\n",
       "        vertical-align: top;\n",
       "    }\n",
       "\n",
       "    .dataframe thead th {\n",
       "        text-align: right;\n",
       "    }\n",
       "</style>\n",
       "<table border=\"1\" class=\"dataframe\">\n",
       "  <thead>\n",
       "    <tr style=\"text-align: right;\">\n",
       "      <th></th>\n",
       "      <th>ID</th>\n",
       "      <th>Title</th>\n",
       "      <th>Upvotes</th>\n",
       "      <th>Downvotes</th>\n",
       "      <th>Subreddit</th>\n",
       "      <th>Body</th>\n",
       "      <th>URL</th>\n",
       "      <th>Number of Comments</th>\n",
       "      <th>Date Created</th>\n",
       "    </tr>\n",
       "  </thead>\n",
       "  <tbody>\n",
       "    <tr>\n",
       "      <td>0</td>\n",
       "      <td>en1us5</td>\n",
       "      <td>Shadow banned !!😡</td>\n",
       "      <td>0</td>\n",
       "      <td>0</td>\n",
       "      <td>FOXNEWS</td>\n",
       "      <td>So lately every time I try to post on Foxnews....</td>\n",
       "      <td>https://www.reddit.com/r/FOXNEWS/comments/en1u...</td>\n",
       "      <td>3</td>\n",
       "      <td>1.578741e+09</td>\n",
       "    </tr>\n",
       "    <tr>\n",
       "      <td>1</td>\n",
       "      <td>ekw19z</td>\n",
       "      <td>Train wreck</td>\n",
       "      <td>3</td>\n",
       "      <td>0</td>\n",
       "      <td>FOXNEWS</td>\n",
       "      <td>The whole crew at Fox probably has a bad case ...</td>\n",
       "      <td>https://www.reddit.com/r/FOXNEWS/comments/ekw1...</td>\n",
       "      <td>10</td>\n",
       "      <td>1.578355e+09</td>\n",
       "    </tr>\n",
       "    <tr>\n",
       "      <td>2</td>\n",
       "      <td>ekuwee</td>\n",
       "      <td>Why did you flip the Epstein images?</td>\n",
       "      <td>1</td>\n",
       "      <td>0</td>\n",
       "      <td>FOXNEWS</td>\n",
       "      <td>After watching the 60 minutes broadcast last n...</td>\n",
       "      <td>https://www.reddit.com/r/FOXNEWS/comments/ekuw...</td>\n",
       "      <td>3</td>\n",
       "      <td>1.578350e+09</td>\n",
       "    </tr>\n",
       "    <tr>\n",
       "      <td>3</td>\n",
       "      <td>egdoxi</td>\n",
       "      <td>What’s the name of this dude?</td>\n",
       "      <td>0</td>\n",
       "      <td>0</td>\n",
       "      <td>FOXNEWS</td>\n",
       "      <td></td>\n",
       "      <td>https://i.redd.it/v1lwq0jtj7741.jpg</td>\n",
       "      <td>5</td>\n",
       "      <td>1.577495e+09</td>\n",
       "    </tr>\n",
       "    <tr>\n",
       "      <td>4</td>\n",
       "      <td>eg164t</td>\n",
       "      <td>How can I watch fox news broadcast in Europe (...</td>\n",
       "      <td>0</td>\n",
       "      <td>0</td>\n",
       "      <td>FOXNEWS</td>\n",
       "      <td>My dad has an interest of my chrome cast and t...</td>\n",
       "      <td>https://www.reddit.com/r/FOXNEWS/comments/eg16...</td>\n",
       "      <td>18</td>\n",
       "      <td>1.577424e+09</td>\n",
       "    </tr>\n",
       "  </tbody>\n",
       "</table>\n",
       "</div>"
      ],
      "text/plain": [
       "       ID                                              Title  Upvotes  Downvotes Subreddit                                               Body                                                URL  Number of Comments  Date Created\n",
       "0  en1us5                                  Shadow banned !!😡        0          0   FOXNEWS  So lately every time I try to post on Foxnews....  https://www.reddit.com/r/FOXNEWS/comments/en1u...                   3  1.578741e+09\n",
       "1  ekw19z                                        Train wreck        3          0   FOXNEWS  The whole crew at Fox probably has a bad case ...  https://www.reddit.com/r/FOXNEWS/comments/ekw1...                  10  1.578355e+09\n",
       "2  ekuwee               Why did you flip the Epstein images?        1          0   FOXNEWS  After watching the 60 minutes broadcast last n...  https://www.reddit.com/r/FOXNEWS/comments/ekuw...                   3  1.578350e+09\n",
       "3  egdoxi                      What’s the name of this dude?        0          0   FOXNEWS                                                                   https://i.redd.it/v1lwq0jtj7741.jpg                   5  1.577495e+09\n",
       "4  eg164t  How can I watch fox news broadcast in Europe (...        0          0   FOXNEWS  My dad has an interest of my chrome cast and t...  https://www.reddit.com/r/FOXNEWS/comments/eg16...                  18  1.577424e+09"
      ]
     },
     "execution_count": 8,
     "metadata": {},
     "output_type": "execute_result"
    }
   ],
   "source": [
    "# Resetting index for concatenated master\n",
    "master = master.reset_index(drop = True)\n",
    "master.head()"
   ]
  },
  {
   "cell_type": "code",
   "execution_count": 9,
   "metadata": {},
   "outputs": [
    {
     "name": "stdout",
     "output_type": "stream",
     "text": [
      "Number of Unique: 20\n",
      "Number of Total Posts: 20\n"
     ]
    }
   ],
   "source": [
    "# Checking to make sure all entries are unique\n",
    "print(f'Number of Unique: {len(master[\"Title\"].unique())}')\n",
    "print(f'Number of Total Posts: {len(master[\"Title\"])}')"
   ]
  },
  {
   "cell_type": "markdown",
   "metadata": {},
   "source": [
    "- - - - - - - - - - - - - - - - - - - - - - - - - - - - - - - - - - - - - - - - - - - - - - - - - - - -"
   ]
  },
  {
   "cell_type": "markdown",
   "metadata": {},
   "source": [
    "#### DataFrame Transfer"
   ]
  },
  {
   "cell_type": "code",
   "execution_count": 10,
   "metadata": {},
   "outputs": [
    {
     "name": "stdout",
     "output_type": "stream",
     "text": [
      "Stored 'master_extract_1' (DataFrame)\n"
     ]
    }
   ],
   "source": [
    "# Stores master DataFrame so that it can be imported into the EDA Notebook.\n",
    "master_extract_1 = master\n",
    "%store master_extract_1"
   ]
  }
 ],
 "metadata": {
  "kernelspec": {
   "display_name": "Python 3",
   "language": "python",
   "name": "python3"
  },
  "language_info": {
   "codemirror_mode": {
    "name": "ipython",
    "version": 3
   },
   "file_extension": ".py",
   "mimetype": "text/x-python",
   "name": "python",
   "nbconvert_exporter": "python",
   "pygments_lexer": "ipython3",
   "version": "3.6.4"
  }
 },
 "nbformat": 4,
 "nbformat_minor": 2
}
